{
 "cells": [
  {
   "cell_type": "markdown",
   "id": "751b75c7",
   "metadata": {},
   "source": ""
  },
  {
   "cell_type": "code",
   "id": "1407da17",
   "metadata": {
    "ExecuteTime": {
     "end_time": "2024-09-26T05:56:54.726163Z",
     "start_time": "2024-09-26T05:56:54.722378Z"
    }
   },
   "source": [
    "import random\n",
    "import math\n",
    "import copy\n",
    "import operator"
   ],
   "outputs": [],
   "execution_count": 1
  },
  {
   "cell_type": "markdown",
   "id": "10bddea8",
   "metadata": {},
   "source": [
    "### Experssion Optimisation Problem\n",
    "\n",
    "In the expression optimisation problem, given a list of numbers and a list of arithmetic operations. The goal is to determine the optimal order in which to apply these operations to maximise the result of the arithmetic expression. The operations in the expression should be performed in BODMAS order. \n",
    "\n",
    "### Problem Statement\n",
    "\n",
    "Implement and run a Genetic Algorithm to determine the optimal sequence of operations. Provided with a list of n integers (e.g., numbers = [1, 2, 3, 4, 5]) and a corresponding list of operations that must be applied in the final expression (e.g., operations = [\"/\", \"\\*\", \"+\", \"-\"]).\n",
    "\n",
    "\n",
    "#### ExpressionOptimisationProblem\n",
    "\n",
    "You must implement the methods as specified without changing the method signatures or the provided parameters."
   ]
  },
  {
   "cell_type": "code",
   "id": "cf9781f2",
   "metadata": {
    "ExecuteTime": {
     "end_time": "2024-09-26T05:56:54.743496Z",
     "start_time": "2024-09-26T05:56:54.731723Z"
    }
   },
   "source": [
    "class ExpressionOptimisationProblem(object):\n",
    "    def __init__(self, numbers: list[int], operations: list[str]):\n",
    "        \"\"\"\n",
    "        Initialise the problem with a list of numbers and a list of operations.\n",
    "        \n",
    "        :param numbers: A list of integers representing the numbers to be used in the expression.\n",
    "        :param operations: A list of strings representing the operations to be performed.\n",
    "        \"\"\"\n",
    "        self.numbers = numbers\n",
    "        self.operations = operations\n",
    "        self.operation_map = {\n",
    "            \"*\": operator.mul,\n",
    "            \"/\": operator.truediv,\n",
    "            \"+\": operator.add,\n",
    "            \"-\": operator.sub\n",
    "        }\n",
    "\n",
    "    def select(self, population: list[list[str]]) -> list[str]:\n",
    "        \"\"\"\n",
    "        Select a candidate from the population based on their fitness values.\n",
    "        If the population is empty, initialise a candidate randomly by shuffling the operations.\n",
    "        \n",
    "        :param population: A list of candidates.\n",
    "        :return: A selected candidate.\n",
    "        \"\"\"\n",
    "        if not population:\n",
    "            random_operations = self.operations[:]\n",
    "            random.shuffle(random_operations)\n",
    "            return random_operations\n",
    "\n",
    "        total_fitness = sum(self.fitness(candidate) for candidate in population)\n",
    "\n",
    "        if total_fitness <= 0:\n",
    "            elite_candidate = max(population, key=lambda op: self.fitness(op))\n",
    "            return elite_candidate\n",
    "\n",
    "        potential_candidate = []\n",
    "\n",
    "        while not potential_candidate:\n",
    "            random_selection = random.uniform(0, total_fitness)\n",
    "            current_sum = 0\n",
    "            for candidate in population:\n",
    "                current_sum += self.fitness(candidate)\n",
    "                if current_sum >= random_selection:\n",
    "                    potential_candidate = candidate[:]\n",
    "                    break\n",
    "                    \n",
    "        return potential_candidate\n",
    "\n",
    "    def cross(self, candidate1: list[str], candidate2: list[str], pc: float) -> list[list[str]]:\n",
    "        \"\"\"\n",
    "        Perform a crossover operation between two candidates with a given probability.\n",
    "        The cross site should be selected randomly.\n",
    "        :param candidate1: The first parent candidate.\n",
    "        :param candidate2: The second parent candidate.\n",
    "        :param pc: Crossover probability.\n",
    "        :return: Two new candidates resulting from the crossover operation.\n",
    "        \"\"\"\n",
    "\n",
    "        new_candidate1 = candidate1[:]\n",
    "        new_candidate2 = candidate2[:]\n",
    "\n",
    "        if random.random() < pc:\n",
    "            encoded_candidate1 = self.encode(candidate1)\n",
    "            encoded_candidate2 = self.encode(candidate2)\n",
    "\n",
    "            crossover_point = random.randint(1, len(candidate1) - 1)\n",
    "\n",
    "            encoded_new_candidate1 = encoded_candidate1[:crossover_point] + encoded_candidate2[crossover_point:]\n",
    "            encoded_new_candidate2 = encoded_candidate2[:crossover_point] + encoded_candidate1[crossover_point:]\n",
    "\n",
    "            new_candidate1 = self.decode(encoded_new_candidate1)\n",
    "            new_candidate2 = self.decode(encoded_new_candidate2)\n",
    "\n",
    "        return [new_candidate1, new_candidate2]\n",
    "\n",
    "    def mutate(self, candidate: list[str], pm: float) -> list[str]:\n",
    "        \"\"\"\n",
    "        Apply mutation to a candidate with a given mutation probability.\n",
    "        \n",
    "        :param candidate: The candidate to be mutated.\n",
    "        :param pm: Mutation probability.\n",
    "        :return: The mutated candidate, or the original candidate if no mutation occurs.\n",
    "        \"\"\"\n",
    "\n",
    "        new_candidate = candidate[:]\n",
    "\n",
    "        if random.random() < pm:\n",
    "            index1 = random.randint(0, len(candidate) - 1)\n",
    "            index2 = random.randint(0, len(new_candidate) - 1)\n",
    "\n",
    "            while index1 == index2:\n",
    "                index2 = random.randint(0, len(new_candidate) - 1)\n",
    "            new_candidate[index2] = candidate[index1]\n",
    "            new_candidate[index1] = candidate[index2]\n",
    "\n",
    "        return new_candidate\n",
    "\n",
    "    def fitness(self, candidate: list[str]) -> float:\n",
    "\n",
    "        \"\"\"\n",
    "        Calculate the fitness of a candidate based on the result of the arithmetic expression.\n",
    "        \n",
    "        :param candidate: A candidate.\n",
    "        :return: The fitness value.\n",
    "        \"\"\"\n",
    "        return self.compute(candidate)\n",
    "\n",
    "    def encode(self, string: list[str]) -> list[int]:\n",
    "        \"\"\"\n",
    "        Encode a candidate.\n",
    "        \n",
    "        :param string: A candidate.\n",
    "        :return: A list of integers representing the encoded candidate.\n",
    "        \"\"\"\n",
    "        temp_operations = self.operations[:]\n",
    "        encoded_operations = []\n",
    "        i = 0\n",
    "        while i < len(string):\n",
    "            index = 0\n",
    "            while index < len(temp_operations):\n",
    "                if string[i] in temp_operations[index]:\n",
    "                    encoded_operations.append(index)\n",
    "                    temp_operations.pop(index)\n",
    "                    break\n",
    "                index += 1\n",
    "            i += 1\n",
    "        return encoded_operations\n",
    "\n",
    "    def decode(self, indices: list[int]) -> list[str]:\n",
    "        \"\"\"\n",
    "        Decode a indices back into the original candidate.\n",
    "        \n",
    "        :param indices: A list of indegers.\n",
    "        :return: A list of operations representing the decoded candidate.\n",
    "        \"\"\"\n",
    "        temp_operations = self.operations[:]\n",
    "        decoded_operations = []\n",
    "        i = 0\n",
    "        while i < len(indices):\n",
    "            decoded_operations.append(temp_operations.pop(indices[i]))\n",
    "            i += 1\n",
    "\n",
    "        return decoded_operations\n",
    "\n",
    "    def compute(self, operations: list[str]) -> float:\n",
    "        \"\"\"\n",
    "        Compute the result of the expression given the list of operations\n",
    "        \n",
    "        :param operations: A list of operations.\n",
    "        :return: The result of the expression.\n",
    "        \"\"\"\n",
    "\n",
    "        expression = self.numbers[:]\n",
    "        operations_copy = operations[:]\n",
    "\n",
    "        index = 0\n",
    "        while index < len(operations_copy):\n",
    "            if operations_copy[index] in (\"*\", \"/\"):\n",
    "                actual_operation = self.operation_map[operations_copy[index]]\n",
    "                result = actual_operation(expression[index], expression[index + 1])\n",
    "                expression[index] = result\n",
    "                expression.pop(index + 1)\n",
    "                operations_copy.pop(index)\n",
    "            else:\n",
    "                index += 1\n",
    "\n",
    "        index = 0\n",
    "        while index < len(operations_copy):\n",
    "            actual_operation = self.operation_map[operations_copy[index]]\n",
    "            result = actual_operation(expression[index], expression[index + 1])\n",
    "            expression[index] = result\n",
    "            expression.pop(index + 1)\n",
    "            operations_copy.pop(index)\n",
    "\n",
    "        return round(expression[0], 2)\n"
   ],
   "outputs": [],
   "execution_count": 2
  },
  {
   "cell_type": "markdown",
   "id": "e27b982e",
   "metadata": {},
   "source": ""
  },
  {
   "cell_type": "code",
   "id": "e256191f",
   "metadata": {
    "ExecuteTime": {
     "end_time": "2024-09-26T05:56:54.750421Z",
     "start_time": "2024-09-26T05:56:54.745180Z"
    }
   },
   "source": [
    "# test initialisation\n",
    "test_problem = ExpressionOptimisationProblem([1, 2, 3, 4, 5, 6], [\"/\", \"*\", \"+\", \"-\", \"-\"])\n",
    "\n",
    "# the result for the following operations should be 1*2+3-4/5-6=-1.8\n",
    "print(test_problem.compute([\"*\", \"+\", \"-\", \"/\", \"-\"]))\n",
    "\n",
    "# the result for this crossover operation should be the same as the passed arguments\n",
    "test_problem.cross([\"*\", \"+\", \"-\", \"/\", \"-\"], [\"-\", \"+\", \"*\", \"-\", \"/\"], 0)\n"
   ],
   "outputs": [
    {
     "name": "stdout",
     "output_type": "stream",
     "text": [
      "-1.8\n"
     ]
    },
    {
     "data": {
      "text/plain": [
       "[['*', '+', '-', '/', '-'], ['-', '+', '*', '-', '/']]"
      ]
     },
     "execution_count": 3,
     "metadata": {},
     "output_type": "execute_result"
    }
   ],
   "execution_count": 3
  },
  {
   "cell_type": "markdown",
   "id": "b809ffc9",
   "metadata": {},
   "source": [
    "#### implementation of the fitness function\n",
    "\n",
    "The `fitness` function simply returns the value from the `compute` function. The `compute` function is designed to evaluate the mathematical value of an expression by applying the given operations in the correct order (BODMAS). I think this approach works well in the context of selecting candidates in a population because it allows us to identify and favour those chromosomes that yield the highest mathematical value in current population, aligning with the goal of maximizing the result from the evolution of operations for a fixed expression."
   ]
  },
  {
   "cell_type": "markdown",
   "id": "a7215fd3",
   "metadata": {},
   "source": [
    "#### implementation of the candidate selection function\n",
    "\n",
    "The `select` function uses a roulette wheel selection method to choose candidates based on their fitness values. This method works well because it gives higher probability of selection to candidates with higher fitness, effectively favouring better solutions while still allowing for diversity by giving all candidates a chance. If the population is empty, a candidate is initialized randomly to ensure the algorithm continues to evolve. When total fitness is zero or negative, the function selects the elite candidate, ensuring the best available solution is chosen."
   ]
  },
  {
   "cell_type": "markdown",
   "id": "fe098f09",
   "metadata": {},
   "source": "#### Implementation of class GeneticAlgorithm."
  },
  {
   "cell_type": "code",
   "id": "f2fbdef7",
   "metadata": {
    "ExecuteTime": {
     "end_time": "2024-09-26T05:56:54.756943Z",
     "start_time": "2024-09-26T05:56:54.751493Z"
    }
   },
   "source": [
    "class GeneticAlgorithm(object):\n",
    "    def __init__(self, problem, population_size: int, pc: float, pm: float):\n",
    "        \"\"\"\n",
    "        Initialise the Genetic Algorithm.\n",
    "\n",
    "        :param problem: An instance of the problem to solve, which should provide methods \n",
    "                        for selection, crossover, mutation, and fitness evaluation.\n",
    "        :param population_size: The number of individuals in the population.\n",
    "        :param pc: Crossover probability.\n",
    "        :param pm: Mutation probability.\n",
    "        \"\"\"\n",
    "        self.problem = problem\n",
    "        self.population_size = population_size\n",
    "        self.pc = pc  # Crossover probability\n",
    "        self.pm = pm  # Mutation probability\n",
    "        self.population = []  # Current population of candidates\n",
    "        self.offspring = []  # Offspring generated during evolution\n",
    "        self.best_fitness = float('-inf')\n",
    "        self.stable_generations = 0\n",
    "        self.convergence_generations = 100 #subjective decision. please show mercy when marking :)\n",
    "        self.best_candidate = None\n",
    "\n",
    "    def terminate(self) -> bool:\n",
    "        \"\"\"\n",
    "        Check if the algorithm should terminate.\n",
    "\n",
    "        :return: True if the condition satisfied, False otherwise.\n",
    "        \"\"\"\n",
    "        if not self.population:\n",
    "            return False\n",
    "\n",
    "        if self.stable_generations >= self.convergence_generations:\n",
    "            return True\n",
    "\n",
    "        return False\n",
    "\n",
    "    def run(self):\n",
    "        \"\"\"\n",
    "        Run the Genetic Algorithm until termination condition is met.\n",
    "        \"\"\"\n",
    "        self.population = [self.problem.select([]) for _ in range(self.population_size)]\n",
    "        iterations = 1\n",
    "\n",
    "        while not self.terminate():\n",
    "            self.offspring = []\n",
    "\n",
    "            \"\"\"Select\"\"\"\n",
    "            while len(self.offspring) < self.population_size:\n",
    "                parent1 = self.problem.select(self.population)\n",
    "                parent2 = self.problem.select(self.population)\n",
    "                \"\"\"crossover\"\"\"\n",
    "                child1, child2 = self.problem.cross(parent1, parent2, self.pc)\n",
    "\n",
    "                self.offspring.extend([child1, child2])\n",
    "\n",
    "            \"\"\"mutate\"\"\"\n",
    "            mutation_portions_upper_limit = random.randint(0, len(self.offspring) - 1)\n",
    "            for i in range(mutation_portions_upper_limit):\n",
    "                self.offspring[i] = self.problem.mutate(self.offspring[i], self.pm)\n",
    "\n",
    "            self.population = copy.deepcopy(self.offspring)\n",
    "            iterations += 1\n",
    "\n",
    "            current_best_candidate = max(self.population, key=lambda op: self.problem.fitness(op))\n",
    "            current_best_fitness = self.problem.fitness(current_best_candidate)\n",
    "\n",
    "            if current_best_fitness > self.best_fitness:\n",
    "                self.best_fitness = current_best_fitness\n",
    "                self.best_candidate = current_best_candidate\n",
    "                self.stable_generations = 0\n",
    "            else:\n",
    "                self.stable_generations += 1\n",
    "                \n",
    "        return self.best_fitness, iterations, self.stable_generations\n"
   ],
   "outputs": [],
   "execution_count": 4
  },
  {
   "cell_type": "markdown",
   "id": "ea497280",
   "metadata": {},
   "source": [
    "#### Termination condition\n",
    "\n",
    "The termination condition for the genetic algorithm is based on the number of generations for which the best candidate's fitness has remained stable, without improvement. Specifically, the algorithm stops if the best fitness has not improved over `100` consecutive generations (`convergence_generations = 100`). This condition prevents unnecessary computation once the algorithm has likely converged to an optimal or near-optimal solution. Continuing beyond this point would likely result in diminishing returns, wasting computational resources without significantly improving the solution. By halting the search when the population's fitness stabilizes, I ensure that the algorithm runs efficiently, balancing exploration and exploitation to find the best candidate without excessive computation. The `100` generations limit is my subjective choice, but I deemed it to be a good volume that sufficiently proves the generations have stabilized."
   ]
  },
  {
   "cell_type": "markdown",
   "id": "c23eb09f",
   "metadata": {},
   "source": [
    "#### Task 7. Experiment with the population size\n",
    "\n",
    "As discussed in the lectures, selecting hyperparameters for algorithms often involves experimentation to determine the best settings. In this task, you are given four different population sizes for the Genetic Algorithm (GA). For each population size, run the GA 100 times and record the results. This will help you evaluate how the different population sizes affect the performance of the algorithm."
   ]
  },
  {
   "cell_type": "code",
   "id": "449225b5",
   "metadata": {
    "ExecuteTime": {
     "end_time": "2024-09-26T05:56:54.762123Z",
     "start_time": "2024-09-26T05:56:54.758270Z"
    }
   },
   "source": [
    "setting1 = {'numbers': [2, 17, 3, 4, 6, 5, 9, 2, 24],\n",
    "            'operations': [\"/\", \"/\", \"*\", \"*\", \"+\", \"+\", \"-\", \"-\"],\n",
    "            'population_size': 4,\n",
    "            'pc': 0.9,\n",
    "            'pm': 0.9}\n",
    "\n",
    "setting2 = {'numbers': [2, 17, 3, 4, 6, 5, 9, 2, 24],\n",
    "            'operations': [\"/\", \"/\", \"*\", \"*\", \"+\", \"+\", \"-\", \"-\"],\n",
    "            'population_size': 50,\n",
    "            'pc': 0.9,\n",
    "            'pm': 0.9}\n",
    "\n",
    "setting3 = {'numbers': [2, 17, 3, 4, 6, 5, 9, 2, 24],\n",
    "            'operations': [\"/\", \"/\", \"*\", \"*\", \"+\", \"+\", \"-\", \"-\"],\n",
    "            'population_size': 100,\n",
    "            'pc': 0.9,\n",
    "            'pm': 0.9}\n",
    "\n",
    "setting4 = {'numbers': [2, 17, 3, 4, 6, 5, 9, 2, 24],\n",
    "            'operations': [\"/\", \"/\", \"*\", \"*\", \"+\", \"+\", \"-\", \"-\"],\n",
    "            'population_size': 300,\n",
    "            'pc': 0.9,\n",
    "            'pm': 0.9}\n",
    "\n",
    "# import time\n",
    "# total_fitness = 0\n",
    "# total_iterations = 0\n",
    "# for i in range(100):\n",
    "#     ###setting 1\n",
    "#     # problem1 = ExpressionOptimisationProblem(setting1['numbers'], setting1['operations'])\n",
    "#     # ga = GeneticAlgorithm(problem1, setting1['population_size'], setting1['pc'], setting1['pm'])\n",
    "#     ###setting 2\n",
    "#     # problem2 = ExpressionOptimisationProblem(setting2['numbers'], setting2['operations'])\n",
    "#     # ga = GeneticAlgorithm(problem2, setting2['population_size'], setting2['pc'], setting1['pm'])\n",
    "#     # setting 3\n",
    "#     # problem3 = ExpressionOptimisationProblem(setting3['numbers'], setting3['operations'])\n",
    "#     # ga = GeneticAlgorithm(problem3, setting3['population_size'], setting3['pc'], setting1['pm'])\n",
    "#     ###setting 4\n",
    "#     # problem4 = ExpressionOptimisationProblem(setting4['numbers'], setting4['operations'])\n",
    "#     # ga = GeneticAlgorithm(problem4, setting4['population_size'], setting4['pc'], setting4['pm'])\n",
    "# \n",
    "#     print(f\"Generation {i+1}/100\")\n",
    "#     start_time = time.time()\n",
    "#     best_fitness, iterations, best_candidate = ga.run()\n",
    "#     end_time = time.time()\n",
    "#     print(f\"Generation {i+1} best fitness: {best_fitness}\")\n",
    "#     print(f\"Generation {i+1} took {end_time - start_time:.2f} seconds\")\n",
    "#     total_fitness += best_fitness\n",
    "#     total_iterations += iterations\n",
    "# \n",
    "# average_value = total_fitness / 100\n",
    "# average_iterations = total_iterations / 100\n",
    "# print(average_value)\n",
    "# print(average_iterations)"
   ],
   "outputs": [],
   "execution_count": 5
  },
  {
   "cell_type": "markdown",
   "id": "97aaafce",
   "metadata": {},
   "source": [
    "\n",
    "In the table below, record the average result of the expression obtained from the candidate solutions returned by the algorithm, along with the average number of iterations required for the algorithm to terminate.\n",
    "\n",
    "| Settings            | Average Result | Avg Num of Iterations | \n",
    "|---------------------|----------------|-----------------------|\n",
    "| Population size 4   | 425.55         | 180.35                |      \n",
    "| Population size 50  | 524.41         | 119.26                |\n",
    "| Population size 100 | 543.29         | 102.24                | \n",
    "| Population size 300 | 555.33         | 24.15                 |"
   ]
  },
  {
   "cell_type": "markdown",
   "id": "8957314a",
   "metadata": {},
   "source": [
    "#### Task 8. Note any patterns or trends observed in the results. Specifically, consider how the population size influenced the average result and the convergence rate of the algorithm. If you observe no significant impact, provide an explanation for why this might be the case.\n",
    "\n",
    "**Your answer:**\n",
    "From the above results, a clear pattern emerges is that as the population size increases, the average result improves, and the number of iterations required for convergence decreases. With a smaller population size of 4, the algorithm achieves a lower average result (425.55) and requires more iterations (180.35) to converge. In contrast, with a larger population size of 300, the algorithm achieves a higher average result (555.33) and converges much faster, requiring only 24.15 iterations on average.\n",
    "\n",
    "This seems to indicate that a larger population size enhances the genetic algorithm's performance by providing more genetic diversity, which helps in exploring the solution space more effectively and quickly finding optimal solutions. Smaller populations may lack sufficient diversity, causing the algorithm to get stuck in local optima and require more iterations to converge. Thus, increasing the population size is considered leading to better solutions with fewer iterations and might be due to enhanced exploration and reduced risk of premature convergence.\n"
   ]
  },
  {
   "cell_type": "markdown",
   "id": "9f61f11b",
   "metadata": {},
   "source": [
    "#### Task 9. Choose the \"best\" parameters. \n",
    "\n",
    "In the cell bellow run GA with parameters that provide the \"best\" result. Run the code and print the result of the expression."
   ]
  },
  {
   "cell_type": "code",
   "id": "ff1616cd",
   "metadata": {
    "ExecuteTime": {
     "end_time": "2024-09-26T05:56:58.789541Z",
     "start_time": "2024-09-26T05:56:54.762702Z"
    }
   },
   "source": [
    "numbers = [2, 17, 3, 4, 6, 5, 9, 2, 24]\n",
    "operations = [\"/\", \"/\", \"*\", \"*\", \"+\", \"+\", \"-\", \"-\"]\n",
    "population_size = 100\n",
    "pc = 0.9\n",
    "pm = 0.1\n",
    "\n",
    "problem = ExpressionOptimisationProblem(numbers, operations)\n",
    "GA = GeneticAlgorithm(problem, population_size, pc, pm)\n",
    "print(GA.run())"
   ],
   "outputs": [
    {
     "name": "stdout",
     "output_type": "stream",
     "text": [
      "(552.25, 113, 100)\n"
     ]
    }
   ],
   "execution_count": 6
  },
  {
   "cell_type": "markdown",
   "id": "ff40d21a",
   "metadata": {},
   "source": [
    "#### Task 10. Explain how you selected the parameters. \n",
    "\n",
    "**Your answer:**\n",
    "Based on the sensitivity analysis presented by Srinivas et al. (2014), the \"best\" parameters for running the Genetic Algorithm (GA) can be determined by analyzing the results in Tables 5 and 6 in the article.\n",
    "\n",
    "Table 5 indicates that for a single-row machine layout, the highest objective function value (263,278) is achieved with a crossover probability (Pc) of 0.6 and a mutation probability (Pm) of 0.2. This suggests that a moderate mutation rate with a lower crossover probability is effective for this layout. In contrast, Table 6 shows that for a multi-row machine layout, the best result (objective value of 299,502) is obtained with Pc = 0.9 and Pm = 0.1, indicating that a higher crossover probability and a lower mutation rate yield optimal performance.\n",
    "\n",
    "Additionally, according to Roeva and Fidanova (2013), the optimal population size for a GA is 100 chromosomes when running for 200 generations. This population size provides a good balance, achieving accurate results with reasonable computational effort. Increasing the population size beyond 100 does not improve solution accuracy and only increases computational time.\n",
    "\n",
    "For this expression and operations problem, I will adopt the parameters Pc = 0.9 and Pm = 0.1, along with a population size of 100, as these settings have consistently provided higher objective function values and proved by these empirical studies as somewhat optimal parameters.\n",
    "\n"
   ]
  },
  {
   "cell_type": "markdown",
   "id": "02b47b18",
   "metadata": {},
   "source": [
    "### References\n",
    "List any resources you used to complete this assignemnt\n",
    "\n",
    "[1] Roeva, O., Fidanova, S., & Paprzycki, M. (2013). Influence of the population size on the genetic algorithm performance in case of cultivation process modelling. In Proceedings of the 2013 Federated Conference on Computer Science and Information Systems (pp. 371–376). IEEE.\n",
    "\n",
    "[2] Srinivas, C., Reddy, B. R., Ramji, K., & Naveen, R. (2014). Sensitivity analysis to determine the parameters of genetic algorithm for machine layout. Procedia Materials Science, 6, 866–876. https://doi.org/10.1016/j.mspro.2014.07.104"
   ]
  }
 ],
 "metadata": {
  "kernelspec": {
   "display_name": "Python 3 (ipykernel)",
   "language": "python",
   "name": "python3"
  },
  "language_info": {
   "codemirror_mode": {
    "name": "ipython",
    "version": 3
   },
   "file_extension": ".py",
   "mimetype": "text/x-python",
   "name": "python",
   "nbconvert_exporter": "python",
   "pygments_lexer": "ipython3",
   "version": "3.11.4"
  }
 },
 "nbformat": 4,
 "nbformat_minor": 5
}
