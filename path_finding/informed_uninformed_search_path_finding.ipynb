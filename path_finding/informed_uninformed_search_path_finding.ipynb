{
 "cells": [
  {
   "cell_type": "code",
   "id": "1407da17",
   "metadata": {
    "ExecuteTime": {
     "end_time": "2024-09-26T06:15:33.276008Z",
     "start_time": "2024-09-26T06:15:33.271262Z"
    }
   },
   "source": [
    "import numpy as np\n",
    "from search import *\n",
    "import queue\n",
    "import time"
   ],
   "outputs": [],
   "execution_count": 2
  },
  {
   "cell_type": "markdown",
   "id": "10bddea8",
   "metadata": {},
   "source": [
    "## Gates of Light Problem\n",
    "\n",
    "In the mystical kingdom of Luminaris lies the fortress known as the Gates of Light, guarding treasures of immense power. Protected by an enchantment, the fortress has **G** magical gates, each bound by powerful spells. **L** mystical levers are the keys to unlocking these gates. Each lever can toggle the state of certain gates, and their effects are charted on a mystical map represented by a **LxG** matrix. Only the right combination of lever activations can open all the gates and reveal the treasures.\n",
    "\n",
    "In the matrix, the rows represent the leavers, while the columns correspond to the magical gates. The value at position **(i, j)** in the matrix is 1 if leaver **i** affects gate **j**, causing it to change state, and 0 if it does not.\n",
    "\n",
    "For instance if we have 2 leavers and 3 gates, then activations can be respresentate as:\n",
    "[[0, 1, 1],\n",
    "[1, 0, 0]]\n",
    "\n",
    "If the states of the doors are (open, closed, open) and we use the first leaver then the state of the first door will remain the same, while the other two doors will change their states: (open, open, closed).\n",
    "\n",
    "## 1. Implementation of class GatesOfLightProblem\n",
    "Your task is to complete the methods in the GatesOfLightProblem class, which extends the SearchProblem class, ensuring that it reflects the Gates of Light problem. You must implement the methods as specified without changing the method signatures or the provided parameters."
   ]
  },
  {
   "cell_type": "code",
   "id": "fd5ffbbf",
   "metadata": {
    "ExecuteTime": {
     "end_time": "2024-09-26T06:15:33.316900Z",
     "start_time": "2024-09-26T06:15:33.311623Z"
    }
   },
   "source": [
    "class GatesOfLightProblem(SearchProblem):\n",
    "    \"\"\"A class that represents Gates O Light Problem\"\"\"\n",
    "\n",
    "    def __init__(self, start, goal, activations):\n",
    "        self.start = start\n",
    "        self.goal = goal\n",
    "        self.activations = activations\n",
    "\n",
    "    def start_node(self):\n",
    "        \"\"\"\n",
    "        Retrieve the starting node for the search problem.\n",
    "        Returns:\n",
    "        - node: The initial state of the problem.\n",
    "        \"\"\"\n",
    "\n",
    "        return self.start\n",
    "\n",
    "    def is_goal(self, node):\n",
    "        \"\"\"\n",
    "        Check if the given node represents the goal state.\n",
    "\n",
    "        Args:\n",
    "        - node: Current state of the problem.\n",
    "        \n",
    "        Returns:\n",
    "        - bool: True if the current state (node) matches the goal state, False otherwise.\n",
    "        \"\"\"\n",
    "        return self.goal == node\n",
    "\n",
    "    def get_neighbours(self, node):\n",
    "        \"\"\"\n",
    "        Generate and return the neighboring nodes for a given node.\n",
    "\n",
    "        Args:\n",
    "        - node: Current state of the problem.\n",
    "        \n",
    "        Returns:\n",
    "        - list of Arcs: A list of `Arc` objects, each representing a transition from the current node to a neighbour.\n",
    "        \n",
    "        To track not only states, but actions you would need to pass name for the action when creating a neighbour:\n",
    "        Arc(node, neighbour, cost, name_of_the_action)\n",
    "        \n",
    "        \"\"\"\n",
    "        neighbours = []\n",
    "        for lever, effect in enumerate(self.activations):\n",
    "            new_state = [node[i] ^ int(effect[i]) for i in range(len(node))]\n",
    "            neighbours.append(Arc(node, new_state, 1, str(\" Apply lever \" + str(lever) + \" \")))\n",
    "        return neighbours\n",
    "\n",
    "    def heuristic(self, node):\n",
    "        \"\"\"\n",
    "        Estimate the distance from the current state to the goal state.\n",
    "\n",
    "        Args:\n",
    "        - node: Current state of the problem.\n",
    "\n",
    "        Returns:\n",
    "        - float or int: Estimated distance to the goal state.\n",
    "        \"\"\"\n",
    "        return sum(1 for i in range(len(node)) if node[i] != self.goal[i])"
   ],
   "outputs": [],
   "execution_count": 3
  },
  {
   "cell_type": "markdown",
   "id": "bd1aa13d",
   "metadata": {},
   "source": [
    "## 2. Test Case for GatesOfLightProblem"
   ]
  },
  {
   "cell_type": "markdown",
   "id": "6e343bc1",
   "metadata": {},
   "source": [
    "Below is the implementation of Breadth First Search algorithm that uses closed list to track already explored states. This Algorithm is an extention of the Searcher class from search.py which represent DFS."
   ]
  },
  {
   "cell_type": "code",
   "id": "8948f9d7",
   "metadata": {
    "ExecuteTime": {
     "end_time": "2024-09-26T06:15:33.324801Z",
     "start_time": "2024-09-26T06:15:33.320401Z"
    }
   },
   "source": [
    "class BreadthFirstSearcher(Searcher):\n",
    "    def __init__(self, problem):\n",
    "        \"\"\"\n",
    "        Initialize the BreadthFirstSearcher.\n",
    "\n",
    "        Args:\n",
    "            problem (SearchProblem): The search problem to be solved.\n",
    "        \"\"\"\n",
    "        self.closed = []  # List to keep track of visited nodes\n",
    "        self.max_frontier_length = 0  # Track the maximum length of the frontier\n",
    "        super().__init__(problem)  # Initialize the base class with the problem\n",
    "        self.num_expanded = 0\n",
    "\n",
    "    def search(self):\n",
    "        \"\"\"\n",
    "        Perform a breadth-first search to find the solution.\n",
    "\n",
    "        Returns:\n",
    "            Path: The path from start to goal if a solution is found.\n",
    "        \"\"\"\n",
    "        while not self.empty_frontier():\n",
    "            # Update the maximum length of the frontier\n",
    "            self.max_frontier_length = max(self.max_frontier_length, len(self.frontier))\n",
    "\n",
    "            # Pop the first path from the frontier (FIFO order)\n",
    "            self.path = self.frontier.pop(0)\n",
    "\n",
    "            # Add the end node of the current path to the closed list\n",
    "            self.closed.append(self.path.end())\n",
    "            self.num_expanded += 1\n",
    "\n",
    "            # Check if the current path's end node is the goal\n",
    "            if self.problem.is_goal(self.path.end()):  # Solution found\n",
    "                self.solution = self.path  # Store the solution found\n",
    "                return self.path\n",
    "\n",
    "            else:\n",
    "                # Get the neighbors of the current end node\n",
    "                neighbours = self.problem.get_neighbours(self.path.end())\n",
    "                for arc in neighbours:\n",
    "                    # Check if the neighbor node has already been visited\n",
    "                    if arc.to_node in self.closed:\n",
    "                        continue  # Skip if already visited\n",
    "                    # Add the new path to the frontier\n",
    "                    self.add_to_frontier(Path(self.path, arc))"
   ],
   "outputs": [],
   "execution_count": 4
  },
  {
   "cell_type": "markdown",
   "id": "d9e73e9b",
   "metadata": {},
   "source": [
    "The code below it will generate a random door activation matrix and then use BFS to solve the problem.\n",
    "The only part is missing is the specification of the start and the goal state. Complete the code and the run the cell."
   ]
  },
  {
   "cell_type": "code",
   "id": "0202c889",
   "metadata": {
    "ExecuteTime": {
     "end_time": "2024-09-26T06:15:33.329558Z",
     "start_time": "2024-09-26T06:15:33.326385Z"
    }
   },
   "source": [
    "# assume there are 3 leavers and 4 gates\n",
    "n_leavers = 3\n",
    "n_gates = 4\n",
    "\n",
    "\"\"\"Specify the start and the goal for the problem\"\"\"\n",
    "start = [0, 0, 0, 0]  # complete this line\n",
    "goal = [1, 1, 1, 1]  # complete this line\n",
    "\n",
    "# gates activation matrix for 3 leavers and 4 gates\n",
    "test_activations = [[0, 0, 0, 1],\n",
    "                    [0, 1, 1, 0],\n",
    "                    [1, 0, 0, 0]]\n",
    "\n",
    "# creates a problem with the specified start an goal states, and the generated activation funciton\n",
    "test_gates_problem = GatesOfLightProblem(start, goal, test_activations)\n",
    "\n",
    "# creates searcher based on BFS\n",
    "test_searcher = BreadthFirstSearcher(test_gates_problem)\n",
    "\n",
    "# search for the solution and then print it\n",
    "test_solution = test_searcher.search()\n",
    "print(test_solution)"
   ],
   "outputs": [
    {
     "name": "stdout",
     "output_type": "stream",
     "text": [
      "[0, 0, 0, 0]\n",
      "   -- Apply lever 0 --> [0, 0, 0, 1]\n",
      "   -- Apply lever 1 --> [0, 1, 1, 1]\n",
      "   -- Apply lever 2 --> [1, 1, 1, 1]\n"
     ]
    }
   ],
   "execution_count": 5
  },
  {
   "cell_type": "markdown",
   "id": "6dcea99d",
   "metadata": {},
   "source": [
    "## 3. GatesOfLightProblem Instance\n",
    "\n",
    "The code in the cell below generates a gate activation matrix based on you student id. If BFS can't find a solution for the gate activation generated based on your student it, it will increment it ans search again. The only part missing in thois code is the start and the goal states. Complete the corresponding line of code and run the cell."
   ]
  },
  {
   "cell_type": "code",
   "id": "70277da8",
   "metadata": {
    "ExecuteTime": {
     "end_time": "2024-09-26T06:15:33.541970Z",
     "start_time": "2024-09-26T06:15:33.331068Z"
    }
   },
   "source": [
    "student_id = 767227544  # Update your student id number, it should have from 7 to 9 digits\n",
    "seed = student_id\n",
    "\n",
    "n_gates = 7\n",
    "n_leavers = 8\n",
    "\n",
    "\"\"\"Specify the start and the goal for the problem\"\"\"\n",
    "start = [0, 0, 0, 0, 0, 0, 0]  # complete this line\n",
    "goal = [1, 1, 1, 1, 1, 1, 1]  # complete this line\n",
    "\n",
    "student_solution = None\n",
    "while student_solution is None:\n",
    "    np.random.seed(seed)\n",
    "    print(f\"Seed: {seed}\")\n",
    "\n",
    "    #generate gate activations\n",
    "    student_activations = np.random.randint(0, 2, (n_leavers, n_gates))\n",
    "\n",
    "    #generate gates of light problem with the generated gate activations\n",
    "    student_gates_problem = GatesOfLightProblem(start, goal, student_activations)\n",
    "\n",
    "    # cretae a BFS searcher\n",
    "    student_searcher = BreadthFirstSearcher(student_gates_problem)\n",
    "\n",
    "    # search for the solution\n",
    "    student_solution = student_searcher.search()\n",
    "\n",
    "    # increment seed\n",
    "    seed += 1"
   ],
   "outputs": [
    {
     "name": "stdout",
     "output_type": "stream",
     "text": [
      "Seed: 767227544\n"
     ]
    }
   ],
   "execution_count": 6
  },
  {
   "cell_type": "markdown",
   "id": "61137a9a",
   "metadata": {},
   "source": [
    "Complete and run the code in the cell below to print the following information:\n",
    "- The solution (path from start to goal).\n",
    "- The number of explored nodes.\n",
    "- Max length of the fontier.\n",
    "- The cost of the solution.\n",
    "- The length of the solution.\n",
    "\n",
    "You can modify the BreadthFirstSearcher class if you need to introduce new variables to keep track of these details."
   ]
  },
  {
   "cell_type": "code",
   "id": "a8e9efde",
   "metadata": {
    "ExecuteTime": {
     "end_time": "2024-09-26T06:15:33.545835Z",
     "start_time": "2024-09-26T06:15:33.542810Z"
    }
   },
   "source": [
    "print(\"Solution:\", str(student_solution))\n",
    "print(\"Number of explored nodes:\", student_searcher.num_expanded)\n",
    "print(\"Max length of the frontier:\", student_searcher.max_frontier_length)\n",
    "print(\"The cost of the solution:\", student_solution.cost)\n",
    "print(\"The length of the soluiton:\", len(student_solution))"
   ],
   "outputs": [
    {
     "name": "stdout",
     "output_type": "stream",
     "text": [
      "Solution: [0, 0, 0, 0, 0, 0, 0]\n",
      "   -- Apply lever 0 --> [0, 0, 0, 1, 1, 0, 0]\n",
      "   -- Apply lever 2 --> [0, 1, 0, 1, 1, 1, 0]\n",
      "   -- Apply lever 5 --> [1, 1, 1, 1, 1, 1, 1]\n",
      "Number of explored nodes: 75\n",
      "Max length of the frontier: 372\n",
      "The cost of the solution: 3\n",
      "The length of the soluiton: 3\n"
     ]
    }
   ],
   "execution_count": 7
  },
  {
   "cell_type": "markdown",
   "id": "1f7a859e",
   "metadata": {},
   "source": [
    "## 4. Implementing Informed & Uninformed Search Algorithms\n",
    "\n",
    "In the cell below, you will find 4 search algorithm classes that you need to complete:\n",
    "\n",
    "- UniformCostSearcher: Inherits from BreadthFirstSearcher\n",
    "- GreedySearcher: Inherits from UniformCostSearcher\n",
    "- AStarSearcher: Inherits from UniformCostSearcher\n",
    "- IterativeDeepeningAStarSearcher: Inherits from Searcher\n",
    "\n",
    "You must implement the methods as specified without changing the method signatures or the provided parameters.\n",
    "\n",
    "Hint: Some search algorithms use a priority queue as the frontier. You can use the built-in PriorityQueue class from Python's queue module for this purpose: pq = queue.PriorityQueue()"
   ]
  },
  {
   "cell_type": "code",
   "id": "221ba4ca",
   "metadata": {
    "ExecuteTime": {
     "end_time": "2024-09-26T06:15:33.552234Z",
     "start_time": "2024-09-26T06:15:33.547791Z"
    }
   },
   "source": [
    "class UniformCostSearcher(BreadthFirstSearcher):\n",
    "    \"\"\"\n",
    "    A searcher that implements Uniform Cost Search.\n",
    "\n",
    "    Inherits from:\n",
    "        BreadthFirstSearcher: Provides base functionality for search operations.\n",
    "    \"\"\"\n",
    "\n",
    "    def __init__(self, problem):\n",
    "        \"\"\"\n",
    "        Initialize the UniformCostSearcher.\n",
    "\n",
    "        Args:\n",
    "            problem (SearchProblem): The search problem to be solved.\n",
    "        \"\"\"\n",
    "        self.pq = None\n",
    "        #add a order of path @@self.counter, because the pq behaviour in python FIFO order \n",
    "        #will be overwritten by the letters' alphabetical order in a path\n",
    "        #this will impact the intended behaviour of UCS, because when two path\n",
    "        #have same cost, the newer one will be placed at the front in next iteration\n",
    "        #which logically should be the older path in the front.\n",
    "        self.counter = 0 \n",
    "        super().__init__(problem)\n",
    "\n",
    "    def initialize_frontier(self):\n",
    "        \"\"\"\n",
    "        Initialize the frontier.\n",
    "        \"\"\"\n",
    "        self.pq = queue.PriorityQueue()\n",
    "        return\n",
    "\n",
    "    def add_to_frontier(self, path):\n",
    "        \"\"\"\n",
    "        Add a path to the frontier.\n",
    "\n",
    "        Args:\n",
    "            path (Path): The path to be added to the frontier.\n",
    "        \"\"\"\n",
    "        self.counter +=1 #add a order of path\n",
    "        self.pq.put((path.cost, self.counter, path))\n",
    "        return\n",
    "\n",
    "    def empty_frontier(self):\n",
    "        \"\"\"\n",
    "        Check if the frontier is empty.\n",
    "\n",
    "        Returns:\n",
    "            bool: True if the frontier is empty, False otherwise.\n",
    "        \"\"\"\n",
    "        return self.pq.empty()\n",
    "\n",
    "    def search(self):\n",
    "        \"\"\"\n",
    "        Perform the Uniform Cost Search to find the solution.\n",
    "        \n",
    "        Returns:\n",
    "            Path: The path from the start node to the goal node if found, otherwise None.\n",
    "        \"\"\"\n",
    "\n",
    "        while not self.empty_frontier():\n",
    "\n",
    "            self.max_frontier_length = max(self.max_frontier_length, self.pq.qsize())\n",
    "            \n",
    "            cost, counter, self.path = self.pq.get()\n",
    "            \n",
    "            self.num_expanded += 1\n",
    "\n",
    "            self.closed.append(self.path.end())\n",
    "\n",
    "            if self.problem.is_goal(self.path.end()):\n",
    "                return self.path\n",
    "            else:\n",
    "                neighbours = self.problem.get_neighbours(self.path.end())\n",
    "                for arc in neighbours:\n",
    "                    if arc.to_node in self.closed:\n",
    "                        continue\n",
    "                    new_path = Path(self.path, arc)\n",
    "                    self.add_to_frontier(new_path)\n"
   ],
   "outputs": [],
   "execution_count": 8
  },
  {
   "cell_type": "code",
   "id": "cb261724",
   "metadata": {
    "ExecuteTime": {
     "end_time": "2024-09-26T06:15:33.556445Z",
     "start_time": "2024-09-26T06:15:33.553164Z"
    }
   },
   "source": [
    "class GreedySearcher(UniformCostSearcher):\n",
    "    \"\"\"\n",
    "    A searcher that implements Greedy Best-First Search.\n",
    "\n",
    "    Inherits from:\n",
    "        UniformCostSearcher: Provides base functionality for search operations.\n",
    "    \"\"\"\n",
    "\n",
    "    def __init__(self, problem):\n",
    "        \"\"\"\n",
    "        Initialize the GreedySearcher.\n",
    "\n",
    "        Args:\n",
    "            problem (SearchProblem): The search problem to be solved.\n",
    "        \"\"\"\n",
    "        super().__init__(problem)\n",
    "\n",
    "    def add_to_frontier(self, path):\n",
    "        \"\"\"\n",
    "        Add a path to the frontier.\n",
    "        Args:\n",
    "            path (Path): The path to be added to the frontier.\n",
    "        \"\"\"\n",
    "        h = self.problem.heuristic(path.end())\n",
    "        self.pq.put((h, self.counter, path))\n",
    "        return\n"
   ],
   "outputs": [],
   "execution_count": 9
  },
  {
   "cell_type": "code",
   "id": "85ba67e3",
   "metadata": {
    "ExecuteTime": {
     "end_time": "2024-09-26T06:15:33.560276Z",
     "start_time": "2024-09-26T06:15:33.557348Z"
    }
   },
   "source": [
    "class AStarSearcher(UniformCostSearcher):\n",
    "    \"\"\"\n",
    "    A searcher that implements A* Star Search.\n",
    "\n",
    "    Inherits from:\n",
    "        UniformCostSearcher: Provides base functionality for search operations.\n",
    "    \"\"\"\n",
    "\n",
    "    def __init__(self, problem):\n",
    "        \"\"\"\n",
    "        Initialize the GreedySearcher.\n",
    "\n",
    "        Args:\n",
    "            problem (SearchProblem): The search problem to be solved.\n",
    "        \"\"\"\n",
    "        super().__init__(problem)\n",
    "\n",
    "    def add_to_frontier(self, path):\n",
    "        \"\"\"\n",
    "        Add a path to the frontier.\n",
    "\n",
    "        Args:\n",
    "            path (Path): The path to be added to the frontier.\n",
    "        \"\"\"\n",
    "        g = path.cost\n",
    "        h = self.problem.heuristic(path.end())\n",
    "        f = g + h\n",
    "        self.pq.put((f, self.counter, path))\n",
    "        return"
   ],
   "outputs": [],
   "execution_count": 10
  },
  {
   "cell_type": "code",
   "id": "606a2a48",
   "metadata": {
    "ExecuteTime": {
     "end_time": "2024-09-26T06:15:33.567211Z",
     "start_time": "2024-09-26T06:15:33.561207Z"
    }
   },
   "source": [
    "class IterativeDeepeningAStarSearcher(Searcher):\n",
    "    \"\"\"A class representing ID A* (acts like IDS with heuristic instead of the depth)\n",
    "        search method is overwritten to iterate over different thresholds\n",
    "        * values - array to store the values (cost + heuristic) of the neighbors\n",
    "        * threshold - the current threshold\n",
    "        * start - initial path to start the search with the new threshold\n",
    "    \"\"\"\n",
    "\n",
    "    def __init__(self, problem):\n",
    "        \"\"\"\n",
    "        Initialize the GreedySearcher.\n",
    "\n",
    "        Args:\n",
    "            problem (SearchProblem): The search problem to be solved.\n",
    "        \"\"\"\n",
    "        self.stack = None\n",
    "        self.threshold = 0\n",
    "        self.start = problem.start_node()\n",
    "        super().__init__(problem)\n",
    "\n",
    "\n",
    "    def initialize_frontier(self):\n",
    "        \"\"\"\n",
    "        Initialize the frontier.\n",
    "        \"\"\"\n",
    "        self.stack = []\n",
    "        return\n",
    "\n",
    "    def empty_frontier(self):\n",
    "        \"\"\"\n",
    "        Check if the frontier is empty.\n",
    "\n",
    "        Returns:\n",
    "            bool: True if the frontier is empty, False otherwise.\n",
    "        \"\"\"\n",
    "        return self.stack == []\n",
    "\n",
    "    def add_to_frontier(self, path):\n",
    "        \"\"\"\n",
    "        Add a path to the frontier.\n",
    "\n",
    "        Args:\n",
    "            path (Path): The path to be added to the frontier.\n",
    "        \"\"\"\n",
    "        g = path.cost\n",
    "        h = self.problem.heuristic(path.end())\n",
    "        f = g + h\n",
    "        self.stack.append((path, f))\n",
    "        return\n",
    "\n",
    "    def search(self):\n",
    "        \n",
    "        \"\"\"\n",
    "        Perform the Uniform Cost Search to find the solution.\n",
    "        Returns:\n",
    "            Path: The path from the start node to the goal node if found, otherwise None.\n",
    "        \"\"\"\n",
    "        h_start = self.problem.heuristic(self.start)\n",
    "        f_start = h_start\n",
    "        self.threshold = f_start\n",
    "        \n",
    "        infinity = float('inf')\n",
    "\n",
    "        while self.threshold < infinity:\n",
    "            \n",
    "            min_threshold = infinity\n",
    "            \n",
    "            \"\"\"\n",
    "            since in the beginning, we add initial node to the pq already\n",
    "            when we invoked super().__init__(problem), however, if we re-enter\n",
    "            the inner while loop (A*), we need to add it back again, so the frontier\n",
    "            will not be empty as well as ensures that we can start from the beginning\n",
    "            node again\n",
    "            \"\"\"\n",
    "            if self.empty_frontier():\n",
    "                self.add_to_frontier(Path(self.start))\n",
    "\n",
    "            while not self.empty_frontier():\n",
    "                self.max_frontier_length = max(self.max_frontier_length, len(self.stack))\n",
    "                \n",
    "                path, f = self.stack.pop()\n",
    "                      \n",
    "                self.num_expanded += 1\n",
    "\n",
    "                if self.problem.is_goal(path.end()):\n",
    "                    return path\n",
    "\n",
    "                neighbours = self.problem.get_neighbours(path.end())\n",
    "                for arc in neighbours:\n",
    "                    new_path = Path(path, arc)\n",
    "                    g = new_path.cost\n",
    "                    h = self.problem.heuristic(new_path.end())\n",
    "                    f = g + h\n",
    "\n",
    "                    if f <= self.threshold:\n",
    "                        self.add_to_frontier(new_path)\n",
    "                    else:\n",
    "                        min_threshold = min(min_threshold, f)\n",
    "\n",
    "            self.threshold = min_threshold\n",
    "        return"
   ],
   "outputs": [],
   "execution_count": 11
  },
  {
   "cell_type": "markdown",
   "id": "f29e7040",
   "metadata": {},
   "source": [
    "## 5. Analysis of Search Algorithms' Performance\n",
    "\n",
    "Run each algorithm listed in the table below on the problem defined by the following gate activations:"
   ]
  },
  {
   "cell_type": "code",
   "id": "d34224be",
   "metadata": {
    "ExecuteTime": {
     "end_time": "2024-09-26T06:15:33.576582Z",
     "start_time": "2024-09-26T06:15:33.568085Z"
    }
   },
   "source": [
    "seed = 15\n",
    "np.random.seed(seed)\n",
    "\n",
    "n_gates = 9\n",
    "n_leavers = 9\n",
    "\n",
    "#generated gate activations\n",
    "gate_activations = np.random.randint(0, 2, (n_leavers, n_gates))\n",
    "\n",
    "print(gate_activations)\n",
    "\n",
    "start = [0, 0, 0, 0, 0, 0, 0, 0, 0]\n",
    "goal = [1, 1, 1, 1, 1, 1, 1, 1, 1]\n",
    "\n",
    "gates_problem = GatesOfLightProblem(start, goal, gate_activations)\n",
    "\n",
    "# searcher = IterativeDeepeningAStarSearcher(gates_problem) #IDA\n",
    "# searcher = UniformCostSearcher(gates_problem) #UCS\n",
    "# searcher = BreadthFirstSearcher(gates_problem) #BFS\n",
    "# searcher = AStarSearcher(gates_problem) #A* #Greedy\n",
    "searcher = GreedySearcher(gates_problem) #Greedy\n",
    "\n",
    "#ignore time for class instance construction\n",
    "start_time = time.time()\n",
    "\n",
    "solution = searcher.search()\n",
    "\n",
    "end_time = time.time()\n",
    "execution_time = end_time - start_time\n",
    "print(f\"Method executed in: {execution_time:.6f} seconds\")\n",
    "print(\"Solution:\", str(solution))\n",
    "print(\"Number of explored nodes:\", searcher.num_expanded)\n",
    "print(\"Max length of the frontier:\", searcher.max_frontier_length)\n",
    "print(\"The cost of the solution:\", solution.cost)\n",
    "print(\"The length of the soluiton:\", len(solution))"
   ],
   "outputs": [
    {
     "name": "stdout",
     "output_type": "stream",
     "text": [
      "[[0 1 0 1 1 0 0 1 1]\n",
      " [1 1 0 1 1 1 1 1 1]\n",
      " [0 0 0 1 0 1 1 1 1]\n",
      " [0 1 0 1 1 0 1 0 0]\n",
      " [1 1 1 0 1 0 0 1 0]\n",
      " [1 0 1 0 1 0 0 0 1]\n",
      " [0 1 0 0 1 0 1 0 0]\n",
      " [0 1 1 1 0 1 0 1 1]\n",
      " [1 0 0 1 1 1 0 0 0]]\n",
      "Method executed in: 0.004000 seconds\n",
      "Solution: [0, 0, 0, 0, 0, 0, 0, 0, 0]\n",
      "   -- Apply lever 1 --> [1, 1, 0, 1, 1, 1, 1, 1, 1]\n",
      "   -- Apply lever 5 --> [0, 1, 1, 1, 0, 1, 1, 1, 0]\n",
      "   -- Apply lever 8 --> [1, 1, 1, 0, 1, 0, 1, 1, 0]\n",
      "   -- Apply lever 2 --> [1, 1, 1, 1, 1, 1, 0, 0, 1]\n",
      "   -- Apply lever 6 --> [1, 0, 1, 1, 0, 1, 1, 0, 1]\n",
      "   -- Apply lever 4 --> [0, 1, 0, 1, 1, 1, 1, 1, 1]\n",
      "   -- Apply lever 5 --> [1, 1, 1, 1, 0, 1, 1, 1, 0]\n",
      "   -- Apply lever 0 --> [1, 0, 1, 0, 1, 1, 1, 0, 1]\n",
      "   -- Apply lever 7 --> [1, 1, 0, 1, 1, 0, 1, 1, 0]\n",
      "   -- Apply lever 5 --> [0, 1, 1, 1, 0, 0, 1, 1, 1]\n",
      "   -- Apply lever 8 --> [1, 1, 1, 0, 1, 1, 1, 1, 1]\n",
      "   -- Apply lever 3 --> [1, 0, 1, 1, 0, 1, 0, 1, 1]\n",
      "   -- Apply lever 6 --> [1, 1, 1, 1, 1, 1, 1, 1, 1]\n",
      "Number of explored nodes: 81\n",
      "Max length of the frontier: 544\n",
      "The cost of the solution: 13\n",
      "The length of the soluiton: 13\n"
     ]
    }
   ],
   "execution_count": 12
  },
  {
   "metadata": {},
   "cell_type": "markdown",
   "source": "",
   "id": "ee9c960f69d329f8"
  },
  {
   "cell_type": "markdown",
   "id": "b91905a6",
   "metadata": {},
   "source": [
    "In the table below record the cost of the solution, the number of explored nodes, max length of the frontier, and the time it took to find the solution for each algorithm. If an algorithm runs for more than 1 minute terminate it and mark as Timeout.\n",
    "\n",
    "\n",
    "| Search Algorithms       | Cost | Explored | Max Frontier Length | Time              |\n",
    "|-------------------------|------|----------|---------------------|-------------------|\n",
    "| Breadth First Search    | 7    | 79212    | 181441              | Timeout (383.20s) |\n",
    "| Uniform Cost Search     | 7    | 79212    | 181441              | Timeout (393.67s) |\n",
    "| Greedy Search           | 13   | 81       | 544                 | 0.004593s         |\n",
    "| A Star Search           | 7    | 5572     | 18797               | 3.497990s         |\n",
    "| IDA Star Search         | 7    | 182470   | 41                  | 5.703394s         |"
   ]
  },
  {
   "metadata": {},
   "cell_type": "markdown",
   "source": [
    "Answer the following questions:\n",
    "    \n",
    "\n",
    "#### Question 1: Compare the performance of the BFS and UCS algotihms. Is there anything that surprised you? (max 150 words)\n",
    "Answer: \n",
    "\n",
    "The performance of Breadth-First Search (BFS) and Uniform Cost Search (UCS) is quite similar in this scenario, with both algorithms finding the optimal solution with a cost of 7. Each explored 79,212 nodes and reached a maximum frontier length of 181,441, but both timed out due to extensive time requirements that are 383.20 seconds for BFS and 393.67 seconds for UCS. This outcome is expected since UCS behaves like BFS when all path costs are uniform, as in this Gate of Light problem. The slight difference in timing is odd, as UCS is typically expected to be quicker, or at least identical in performance when all arc costs are the same. One possible explanation could be associated with UCS's use of a priority queue, which may involve extra library invocations and the overhead in handling costs. \n",
    "\n",
    "#### Question 2: Summarise the performance of the Informed Search Startegies. Is it what you expected? (max 300 words)\n",
    "Answer: \n",
    "\n",
    "The performance of three informed search strategies, Greedy Search, A* Search, and IDA* Search varies significantly in their generated statistic, but it is as expected.\n",
    "\n",
    "Greedy Search is the fastest, taking only 0.004593 seconds to find a solution with a cost of 13, exploring 81 nodes, and having a maximum frontier length of 544. This speed comes from prioritizing nodes closest to the goal based on the heuristic. However, it doesn’t guarantee finding the least-cost path because it ignores the actual cost of the path, leading to a suboptimal solution, as reflected by the higher cost compared to A* and IDA* searches.\n",
    "\n",
    "A* Search took 3.497990 seconds, finding an optimal solution with a cost of 7, exploring 5572 nodes, and with a maximum frontier length of 18,797. A* Search balances the heuristic with the actual path cost from the start node, ensuring an optimal solution but requiring more time and memory, as indicated by the larger frontier and longer computation time.\n",
    "\n",
    "IDA* Search, the slowest at 5.703394 seconds, also found an optimal solution with a cost of 7, exploring 182,470 nodes but with a much smaller maximum frontier length of 41. This is expected since IDA* is more memory-efficient, using depth-first search approach with iterative deepening, where the depth is controlled by a heuristic. The smaller frontier reflects its memory efficiency, but the need to re-explore paths due to the iterative deepening approach results in a larger number of explored nodes and longer time, showcasing the trade-off between memory usage and speed.\n"
   ],
   "id": "55c6cb4ef45341ec"
  },
  {
   "cell_type": "markdown",
   "id": "136c686a",
   "metadata": {},
   "source": [
    "## 6. Graph Search\n",
    "\n",
    "The code in the cell below implements a search problem using an explicit graph:"
   ]
  },
  {
   "cell_type": "code",
   "id": "e420c7cf",
   "metadata": {
    "ExecuteTime": {
     "end_time": "2024-09-26T06:15:33.581709Z",
     "start_time": "2024-09-26T06:15:33.577591Z"
    }
   },
   "source": [
    "class GraphProblem(SearchProblem):\n",
    "    \"\"\"A search problem from an explicit graph.\"\"\"\n",
    "\n",
    "    def __init__(self, nodes, arcs, start=None, goals=set(), hmap={},\n",
    "                 positions=None, show_costs=True):\n",
    "        \"\"\" A search problem consists of:\n",
    "        * list or set of nodes\n",
    "        * list or set of arcs\n",
    "        * start node\n",
    "        * list or set of goal nodes\n",
    "        * hmap: dictionary that maps each node into its heuristic value.\n",
    "        \"\"\"\n",
    "        self.neighbours = {}\n",
    "        self.nodes = nodes\n",
    "        for node in nodes:\n",
    "            self.neighbours[node] = []\n",
    "        self.arcs = arcs\n",
    "        for arc in arcs:\n",
    "            self.neighbours[arc.from_node].append(arc)\n",
    "        self.start = start\n",
    "        self.goals = goals\n",
    "        self.hmap = hmap\n",
    "\n",
    "    def start_node(self):\n",
    "        \"\"\"returns start node\"\"\"\n",
    "        return self.start\n",
    "\n",
    "    def is_goal(self, node):\n",
    "        \"\"\"is True if node is a goal\"\"\"\n",
    "        return node in self.goals\n",
    "\n",
    "    def get_neighbours(self, node):\n",
    "        \"\"\"returns the neighbors of node (a list of arcs)\"\"\"\n",
    "        return self.neighbours[node]\n",
    "\n",
    "    def heuristic(self, node):\n",
    "        \"\"\"Gives the heuristic value of node n.\n",
    "        Returns 0 if not overridden in the hmap.\"\"\"\n",
    "        if node in self.hmap:\n",
    "            return self.hmap[node]\n",
    "        else:\n",
    "            return 0\n",
    "\n",
    "    def __repr__(self):\n",
    "        \"\"\"returns a string representation of the search problem\"\"\"\n",
    "        res = \"\"\n",
    "        for arc in self.arcs:\n",
    "            res += f\"{arc}.  \"\n",
    "        return res"
   ],
   "outputs": [],
   "execution_count": 13
  },
  {
   "cell_type": "markdown",
   "id": "647041c1",
   "metadata": {},
   "source": [
    "Run the cell below to create an instance of GraphProblem with 28 nodes:"
   ]
  },
  {
   "cell_type": "code",
   "id": "5f791b27",
   "metadata": {
    "ExecuteTime": {
     "end_time": "2024-09-26T06:15:33.591073Z",
     "start_time": "2024-09-26T06:15:33.584007Z"
    }
   },
   "source": [
    "graph_problem = GraphProblem(\n",
    "    {'A', 'B', 'C', 'D', 'E', 'F', 'G', 'H', 'I', 'J', 'K', 'L', 'M', 'N', 'O', 'P', 'Q', 'R', 'S', 'T', 'U', 'V', 'W',\n",
    "     'X', 'Y', 'Z', 'AA', 'AB'},\n",
    "    [\n",
    "        Arc('A', 'B', 5), Arc('A', 'C', 7), Arc('B', 'D', 4), Arc('B', 'E', 6), Arc('C', 'F', 8), Arc('C', 'G', 5),\n",
    "        Arc('D', 'H', 3), Arc('D', 'I', 7), Arc('E', 'J', 2), Arc('E', 'K', 9), Arc('F', 'L', 6), Arc('F', 'M', 4),\n",
    "        Arc('G', 'N', 8), Arc('G', 'O', 3), Arc('H', 'P', 7), Arc('I', 'Q', 5), Arc('J', 'R', 6), Arc('K', 'S', 8),\n",
    "        Arc('L', 'T', 4), Arc('M', 'U', 9), Arc('N', 'V', 2), Arc('O', 'W', 7), Arc('P', 'X', 5), Arc('Q', 'Y', 8),\n",
    "        Arc('R', 'Z', 3), Arc('S', 'AA', 6), Arc('T', 'AB', 7), Arc('U', 'A', 9), Arc('V', 'B', 5), Arc('W', 'C', 6),\n",
    "        Arc('X', 'D', 8), Arc('Y', 'E', 4), Arc('Z', 'F', 7), Arc('AA', 'G', 5), Arc('AB', 'H', 6)\n",
    "    ],\n",
    "    start='A',\n",
    "    goals={'AB'},\n",
    "    hmap={\n",
    "        'A': 12, 'B': 8, 'C': 10, 'D': 9, 'E': 7, 'F': 6,\n",
    "        'G': 11, 'H': 8, 'I': 10, 'J': 5, 'K': 12, 'L': 7,\n",
    "        'M': 6, 'N': 9, 'O': 11, 'P': 10, 'Q': 8, 'R': 7,\n",
    "        'S': 12, 'T': 6, 'U': 10, 'V': 5, 'W': 8, 'X': 7,\n",
    "        'Y': 9, 'Z': 11, 'AA': 6, 'AB': 0,\n",
    "    })\n",
    "\n",
    "# searcher = IterativeDeepeningAStarSearcher(graph_problem) #IDA\n",
    "# searcher = UniformCostSearcher(graph_problem) #UCS\n",
    "# searcher = BreadthFirstSearcher(graph_problem) #BFS\n",
    "# searcher = AStarSearcher(graph_problem) #A*\n",
    "searcher = GreedySearcher(graph_problem) #Greedy\n",
    "\n",
    "#ignore time for class instance construction\n",
    "start_time = time.time()\n",
    "\n",
    "solution = searcher.search()\n",
    "\n",
    "end_time = time.time()\n",
    "execution_time = end_time - start_time\n",
    "print(f\"Method executed in: {execution_time:.6f} seconds\")\n",
    "\n",
    "print(\"Solution:\", str(solution))\n",
    "print(\"Number of explored nodes:\", searcher.num_expanded)\n",
    "print(\"Max length of the frontier:\", searcher.max_frontier_length)\n",
    "print(\"The cost of the solution:\", solution.cost)\n",
    "print(\"The length of the soluiton:\", len(solution))"
   ],
   "outputs": [
    {
     "name": "stdout",
     "output_type": "stream",
     "text": [
      "Method executed in: 0.000120 seconds\n",
      "Solution: A --> C --> F --> L --> T --> AB\n",
      "Number of explored nodes: 13\n",
      "Max length of the frontier: 7\n",
      "The cost of the solution: 32\n",
      "The length of the soluiton: 5\n"
     ]
    }
   ],
   "execution_count": 14
  },
  {
   "cell_type": "markdown",
   "id": "01b8887f",
   "metadata": {},
   "source": [
    "In the table below, record the following for each algorithm applied to the graph problem:\n",
    "\n",
    "- Cost of the solution\n",
    "- Number of explored nodes\n",
    "- Maximum length of the frontier\n",
    "- Time taken to find the solution\n",
    "\n",
    "If an algorithm runs for more than 1 minute, terminate it and mark it as \"Timeout.\"\n",
    "\n",
    "\n",
    "\n",
    "| Search Algorithms       | Cost | Explored | Max Frontier Length | Time      |\n",
    "|-------------------------|------|----------|---------------------|-----------|\n",
    "| Breadth First Search    | 32   | 28       | 8                   | 0.000069s |\n",
    "| Uniform Cost Search     | 32   | 27       | 8                   | 0.000136s |\n",
    "| Greedy Search           | 32   | 13       | 7                   | 0.000099s |\n",
    "| A Star Search           | 32   | 23       | 8                   | 0.000234s |\n",
    "| IDA Star Search         | 32   | 143      | 4                   | 0.000266s |"
   ]
  },
  {
   "cell_type": "markdown",
   "id": "87f03d8d",
   "metadata": {},
   "source": [
    "#### Question: For each algorithm compare its performnace in tasks 5 & 6. If there are any differences explain them. (max 300 words)\n",
    "Answer:\n",
    "\n",
    "Breadth-First Search (BFS) has drastic difference in performance is due to Task 5’s larger state space and uniform costs, which resulted in massive exploration and led to timed out. Task 6’s Graph problem with simpler structure and less state space allowed BFS to quickly explore fewer nodes and solve the problem efficiently, and surprisingly for both tasks, BFS were able to find optimal result even when arcs' cost are different in Task 6.\n",
    "\n",
    "Uniform Cost Search (UCS) similar to BFS, UCS in Task 5 had to explore a vast number of nodes due to the uniform cost structure, leading to a timeout. Task 6’s smaller graph with varied arc costs allowed UCS to perform efficiently indicated by less nodes explored (time is extremely similar, yet longer, might due to the same reason mentioned Task 5 Q1 again), demonstrating its typical advantage of UCS relative to BFS when path costs differ.\n",
    "\n",
    "Greedy Search performs consistently fast in both tasks, but its suboptimality is more evident in Task 5, where the higher cost indicates a less efficient path. Task 6’s simpler problem structure led to quicker and an optimal result.\n",
    "\n",
    "A* consistently finds optimal solutions but is more computationally expensive relative Greedy Search same as in the task 5. Task 5’s larger state space and uniform costs increased the exploration required. Task 6’s smaller graph allowed A* to perform more efficiently, though still slower than Greedy Search.\n",
    "\n",
    "IDA* is slower than other search methods in both tasks due to its iterative deepening approach, which requires re-exploration of nodes from beginning each time went back from outer while loop when threshold needed to change. Task 5’s large state space amplified this issue, leading to high explored nodes count, whereas Task 6’s smaller problem allowed quicker, though still less efficient compared to other algorithms."
   ]
  },
  {
   "cell_type": "markdown",
   "id": "02b47b18",
   "metadata": {},
   "source": [
    "### References\n",
    "List any resources you used to complete this assigment\n",
    "\n",
    "[1] W3School: https://www.w3schools.com/python/: As I am a beginner in Python, I use this tutorial extensively to learn the syntax and how class and inheritance work in Python.\n",
    "\n",
    "[2] ChatGPT: Again, the resource on W3School is limited, thus, I used ChatGPT to explore the behaviour of various methods that involved in built-in Python libraries (i.e. priorityQueue).\n",
    "\n",
    "[3] Lecture slides: Yes, definitely used lecture slide prepared by Anna, they are very helpful in referring back."
   ]
  }
 ],
 "metadata": {
  "kernelspec": {
   "display_name": "Python 3 (ipykernel)",
   "language": "python",
   "name": "python3"
  },
  "language_info": {
   "codemirror_mode": {
    "name": "ipython",
    "version": 3
   },
   "file_extension": ".py",
   "mimetype": "text/x-python",
   "name": "python",
   "nbconvert_exporter": "python",
   "pygments_lexer": "ipython3",
   "version": "3.11.4"
  }
 },
 "nbformat": 4,
 "nbformat_minor": 5
}
